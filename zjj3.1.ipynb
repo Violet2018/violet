{
 "cells": [
  {
   "cell_type": "markdown",
   "metadata": {},
   "source": [
    "# 作业"
   ]
  },
  {
   "cell_type": "code",
   "execution_count": 12,
   "metadata": {},
   "outputs": [
    {
     "name": "stdout",
     "output_type": "stream",
     "text": [
      "['http://www.17k.com/aboutus/', 'http://www.17k.com/aboutus/Cooperation.html', 'http://www.17k.com/aboutus/link.html', 'http://www.17k.com/Simple/contents/helpCenter/helpCenter.htm', 'http://www.17k.com/Simple/contents/login/Rdme.html', 'http://www.17k.com/about/sitemap.html', 'http://www.17k.com/recruitment/index.html', 'http://code.17k.com/']\n"
     ]
    }
   ],
   "source": [
    "import requests\n",
    "a=requests.get('http://www.17k.com/book/1050747.html')\n",
    "from lxml import etree\n",
    "tree = etree.HTML(a.text)\n",
    "roo=tree.xpath('//body/div[@class=\"Footer\"]/div/a[@href]/@href')\n",
    "print(roo)"
   ]
  },
  {
   "cell_type": "code",
   "execution_count": 2,
   "metadata": {},
   "outputs": [
    {
     "name": "stdout",
     "output_type": "stream",
     "text": [
      "4\n",
      "2\n",
      "456\n"
     ]
    }
   ],
   "source": [
    "import re\n",
    "content = 'hello 1234567 hahah 123 lalal 456'\n",
    "res = re.match('^hello.*(\\d)\\d{3}\\s.*(\\d)\\d\\s.*(\\d{3})',content)\n",
    "print(res.group(1))\n",
    "print(res.group(2))\n",
    "print(res.group(3))"
   ]
  },
  {
   "cell_type": "code",
   "execution_count": null,
   "metadata": {},
   "outputs": [],
   "source": []
  }
 ],
 "metadata": {
  "kernelspec": {
   "display_name": "Python 3",
   "language": "python",
   "name": "python3"
  },
  "language_info": {
   "codemirror_mode": {
    "name": "ipython",
    "version": 3
   },
   "file_extension": ".py",
   "mimetype": "text/x-python",
   "name": "python",
   "nbconvert_exporter": "python",
   "pygments_lexer": "ipython3",
   "version": "3.6.4"
  }
 },
 "nbformat": 4,
 "nbformat_minor": 2
}
